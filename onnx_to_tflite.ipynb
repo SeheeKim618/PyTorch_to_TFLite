{
 "cells": [
  {
   "cell_type": "code",
   "execution_count": 47,
   "id": "8dd56230",
   "metadata": {},
   "outputs": [],
   "source": [
    "##This project is implemented by https://github.com/SeheeKim618/PyTorch_to_TFLite\n",
    "\n",
    "import onnx\n",
    "from onnx_tf.backend import prepare"
   ]
  },
  {
   "cell_type": "code",
   "execution_count": 99,
   "id": "d6cbfeae",
   "metadata": {},
   "outputs": [],
   "source": [
    "onnx_model = onnx.load('/data/my_dir/main/common/backbone/model_final_tune.onnx')"
   ]
  },
  {
   "cell_type": "code",
   "execution_count": 100,
   "id": "be66858a",
   "metadata": {},
   "outputs": [],
   "source": [
    "tf_ref = prepare(onnx_model)"
   ]
  },
  {
   "cell_type": "code",
   "execution_count": 101,
   "id": "6eb65f91",
   "metadata": {},
   "outputs": [
    {
     "name": "stderr",
     "output_type": "stream",
     "text": [
      "WARNING:absl:Found untraced functions such as gen_tensor_dict while saving (showing 1 of 1). These functions will not be directly callable after loading.\n"
     ]
    },
    {
     "name": "stdout",
     "output_type": "stream",
     "text": [
      "INFO:tensorflow:Assets written to: /data/my_dir/main/common/backbone/model.pb/assets\n"
     ]
    },
    {
     "name": "stderr",
     "output_type": "stream",
     "text": [
      "INFO:tensorflow:Assets written to: /data/my_dir/main/common/backbone/model.pb/assets\n"
     ]
    }
   ],
   "source": [
    "tf_ref.export_graph('/data/my_dir/main/common/backbone/model.pb')"
   ]
  },
  {
   "cell_type": "code",
   "execution_count": 102,
   "id": "a7240515",
   "metadata": {},
   "outputs": [
    {
     "name": "stdout",
     "output_type": "stream",
     "text": [
      "The names of the input nodes are: ['input']\n",
      "The names of the output nodes are: ['output']\n"
     ]
    }
   ],
   "source": [
    "input_nodes = tf_ref.inputs\n",
    "output_nodes = tf_ref.outputs\n",
    "print(\"The names of the input nodes are: {}\".format(input_nodes))\n",
    "print(\"The names of the output nodes are: {}\".format(output_nodes))"
   ]
  },
  {
   "cell_type": "code",
   "execution_count": 103,
   "id": "540b3c2d",
   "metadata": {},
   "outputs": [
    {
     "name": "stderr",
     "output_type": "stream",
     "text": [
      "2023-04-13 07:09:25.066944: W tensorflow/compiler/mlir/lite/python/tf_tfl_flatbuffer_helpers.cc:357] Ignored output_format.\n",
      "2023-04-13 07:09:25.066997: W tensorflow/compiler/mlir/lite/python/tf_tfl_flatbuffer_helpers.cc:360] Ignored drop_control_dependency.\n",
      "2023-04-13 07:09:25.067296: I tensorflow/cc/saved_model/reader.cc:43] Reading SavedModel from: /data/my_dir/main/common/backbone/model.pb\n",
      "2023-04-13 07:09:25.095434: I tensorflow/cc/saved_model/reader.cc:78] Reading meta graph with tags { serve }\n",
      "2023-04-13 07:09:25.095479: I tensorflow/cc/saved_model/reader.cc:119] Reading SavedModel debug info (if present) from: /data/my_dir/main/common/backbone/model.pb\n",
      "2023-04-13 07:09:25.670299: I tensorflow/cc/saved_model/loader.cc:228] Restoring SavedModel bundle.\n",
      "2023-04-13 07:09:26.399551: I tensorflow/cc/saved_model/loader.cc:212] Running initialization op on SavedModel bundle at path: /data/my_dir/main/common/backbone/model.pb\n",
      "2023-04-13 07:09:26.752310: I tensorflow/cc/saved_model/loader.cc:301] SavedModel load for tags { serve }; Status: success: OK. Took 1685013 microseconds.\n",
      "2023-04-13 07:09:28.437954: I tensorflow/compiler/mlir/lite/flatbuffer_export.cc:1963] Estimated count of arithmetic ops: 1.234 G  ops, equivalently 0.617 G  MACs\n",
      "\n",
      "WARNING:absl:Buffer deduplication procedure will be skipped when flatbuffer library is not properly loaded\n"
     ]
    }
   ],
   "source": [
    "import tensorflow as tf\n",
    "converter = tf.lite.TFLiteConverter.from_saved_model('/data/my_dir/main/common/backbone/model.pb')\n",
    "#converter.target_spec.supported_ops = [\n",
    "#        tf.lite.OpsSet.TFLITE_BUILTINS, tf.lite.OpsSet.SELECT_TF_OPS\n",
    "#]\n",
    "#converter.target_spec.supported_ops = [tf.lite.OpsSet.TFLITE_BUILTINS,tf.lite.OpsSet.SELECT_TF_OPS]\n",
    "#converter.experimental_new_converter = True\n",
    "tflite_rep = converter.convert()\n",
    "tflite_model_path = '/data/my_dir/main/common/backbone/model_final.tflite'\n",
    "with open(tflite_model_path, 'wb') as f:\n",
    "    f.write(tflite_rep)"
   ]
  }
 ],
 "metadata": {
  "kernelspec": {
   "display_name": "Python 3",
   "language": "python",
   "name": "python3"
  },
  "language_info": {
   "codemirror_mode": {
    "name": "ipython",
    "version": 3
   },
   "file_extension": ".py",
   "mimetype": "text/x-python",
   "name": "python",
   "nbconvert_exporter": "python",
   "pygments_lexer": "ipython3",
   "version": "3.11.1"
  },
  "vscode": {
   "interpreter": {
    "hash": "1a1af0ee75eeea9e2e1ee996c87e7a2b11a0bebd85af04bb136d915cefc0abce"
   }
  }
 },
 "nbformat": 4,
 "nbformat_minor": 5
}
